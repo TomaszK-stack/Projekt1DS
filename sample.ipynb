{
 "cells": [
  {
   "cell_type": "code",
   "execution_count": 24,
   "id": "initial_id",
   "metadata": {
    "collapsed": true,
    "ExecuteTime": {
     "end_time": "2023-12-23T16:43:51.911573300Z",
     "start_time": "2023-12-23T16:43:51.803956500Z"
    }
   },
   "outputs": [],
   "source": [
    "import pandas as pd\n",
    "import matplotlib.pyplot as plt"
   ]
  },
  {
   "cell_type": "markdown",
   "source": [
    "Analiza dotyczyć będzie miasta Kreta"
   ],
   "metadata": {
    "collapsed": false
   },
   "id": "f62ee9eda5b3952d"
  },
  {
   "cell_type": "code",
   "execution_count": 25,
   "outputs": [
    {
     "data": {
      "text/plain": "                       id                                               name  \\\n0                   27966  Rental unit in Gazi · ★4.91 · 1 bedroom · 1 be...   \n1                   28970  Home in Heraklion · ★4.50 · 1 bedroom · 4 beds...   \n2                   29130  Villa in Loutra · ★5.0 · 6 bedrooms · 7 beds ·...   \n3                   29849  Villa in Loutra · ★5.0 · 3 bedrooms · 4 beds ·...   \n4                   29856  Bed and breakfast in Matala · ★4.0 · 1 bedroom...   \n...                   ...                                                ...   \n26329  986029084509677031  Rental unit in Kouremenos · ★New · Studio · 1 ...   \n26330  986454363266088199  Rental unit in Plakias · ★New · 1 bedroom · 2 ...   \n26331  986454364025801427  Rental unit in Plakias · ★New · 2 bedrooms · 4...   \n26332  986454365306250497  Rental unit in Plakias · ★New · 1 bedroom · 1 ...   \n26333  986454365322857702  Rental unit in Plakias · ★New · 2 bedrooms · 4...   \n\n         host_id                 host_name  neighbourhood_group  \\\n0         120502                 Emmanouil                  NaN   \n1         124670                    Eirini                  NaN   \n2         125281                 Dimitrios                  NaN   \n3         125281                 Dimitrios                  NaN   \n4         128653                  Dimitris                  NaN   \n...          ...                       ...                  ...   \n26329   29214684                   Claudia                  NaN   \n26330  128731982  Angela - Interhome Group                  NaN   \n26331  128731982  Angela - Interhome Group                  NaN   \n26332  128731982  Angela - Interhome Group                  NaN   \n26333  128731982  Angela - Interhome Group                  NaN   \n\n         neighbourhood   latitude  longitude        room_type  price  \\\n0           Μαλεβιζίου  35.330120  25.080120  Entire home/apt     45   \n1            Ηρακλείου  35.339540  25.126790  Entire home/apt     70   \n2             Ρεθύμνης  35.356160  24.584640  Entire home/apt    390   \n3             Ρεθύμνης  35.353770  24.585670  Entire home/apt    163   \n4              Φαιστού  34.995330  24.756540     Private room     97   \n...                ...        ...        ...              ...    ...   \n26329          Σητείας  35.210810  26.266090  Entire home/apt     60   \n26330  Αγίου Βασιλείου  35.184913  24.401388  Entire home/apt    147   \n26331  Αγίου Βασιλείου  35.184913  24.401388  Entire home/apt    175   \n26332  Αγίου Βασιλείου  35.184913  24.401388  Entire home/apt    113   \n26333  Αγίου Βασιλείου  35.184913  24.401388  Entire home/apt    205   \n\n       minimum_nights  number_of_reviews last_review  reviews_per_month  \\\n0                   2                129  2023-09-20               0.88   \n1                   1                 53  2021-07-18               0.33   \n2                   7                 15  2023-08-10               0.13   \n3                   3                 21  2023-09-16               0.19   \n4                   1                 44  2023-09-20               0.28   \n...               ...                ...         ...                ...   \n26329               2                  0         NaN                NaN   \n26330               1                  0         NaN                NaN   \n26331               1                  0         NaN                NaN   \n26332               1                  0         NaN                NaN   \n26333               1                  0         NaN                NaN   \n\n       calculated_host_listings_count  availability_365  \\\n0                                   2               357   \n1                                   2                 0   \n2                                   4                30   \n3                                   4                31   \n4                                   4               182   \n...                               ...               ...   \n26329                             119               364   \n26330                             133               363   \n26331                             133               363   \n26332                             133               363   \n26333                             133               363   \n\n       number_of_reviews_ltm           license  \n0                          6       00000247117  \n1                          0       00000353067  \n2                          4  1041K123K2537101  \n3                          9  1041K123K2817101  \n4                          2       00001193488  \n...                      ...               ...  \n26329                      0  1040Κ122Κ0239700  \n26330                      0  1041K123K3042901  \n26331                      0  1041K123K3042901  \n26332                      0  1041K123K3042901  \n26333                      0  1041K123K3042901  \n\n[26334 rows x 18 columns]",
      "text/html": "<div>\n<style scoped>\n    .dataframe tbody tr th:only-of-type {\n        vertical-align: middle;\n    }\n\n    .dataframe tbody tr th {\n        vertical-align: top;\n    }\n\n    .dataframe thead th {\n        text-align: right;\n    }\n</style>\n<table border=\"1\" class=\"dataframe\">\n  <thead>\n    <tr style=\"text-align: right;\">\n      <th></th>\n      <th>id</th>\n      <th>name</th>\n      <th>host_id</th>\n      <th>host_name</th>\n      <th>neighbourhood_group</th>\n      <th>neighbourhood</th>\n      <th>latitude</th>\n      <th>longitude</th>\n      <th>room_type</th>\n      <th>price</th>\n      <th>minimum_nights</th>\n      <th>number_of_reviews</th>\n      <th>last_review</th>\n      <th>reviews_per_month</th>\n      <th>calculated_host_listings_count</th>\n      <th>availability_365</th>\n      <th>number_of_reviews_ltm</th>\n      <th>license</th>\n    </tr>\n  </thead>\n  <tbody>\n    <tr>\n      <th>0</th>\n      <td>27966</td>\n      <td>Rental unit in Gazi · ★4.91 · 1 bedroom · 1 be...</td>\n      <td>120502</td>\n      <td>Emmanouil</td>\n      <td>NaN</td>\n      <td>Μαλεβιζίου</td>\n      <td>35.330120</td>\n      <td>25.080120</td>\n      <td>Entire home/apt</td>\n      <td>45</td>\n      <td>2</td>\n      <td>129</td>\n      <td>2023-09-20</td>\n      <td>0.88</td>\n      <td>2</td>\n      <td>357</td>\n      <td>6</td>\n      <td>00000247117</td>\n    </tr>\n    <tr>\n      <th>1</th>\n      <td>28970</td>\n      <td>Home in Heraklion · ★4.50 · 1 bedroom · 4 beds...</td>\n      <td>124670</td>\n      <td>Eirini</td>\n      <td>NaN</td>\n      <td>Ηρακλείου</td>\n      <td>35.339540</td>\n      <td>25.126790</td>\n      <td>Entire home/apt</td>\n      <td>70</td>\n      <td>1</td>\n      <td>53</td>\n      <td>2021-07-18</td>\n      <td>0.33</td>\n      <td>2</td>\n      <td>0</td>\n      <td>0</td>\n      <td>00000353067</td>\n    </tr>\n    <tr>\n      <th>2</th>\n      <td>29130</td>\n      <td>Villa in Loutra · ★5.0 · 6 bedrooms · 7 beds ·...</td>\n      <td>125281</td>\n      <td>Dimitrios</td>\n      <td>NaN</td>\n      <td>Ρεθύμνης</td>\n      <td>35.356160</td>\n      <td>24.584640</td>\n      <td>Entire home/apt</td>\n      <td>390</td>\n      <td>7</td>\n      <td>15</td>\n      <td>2023-08-10</td>\n      <td>0.13</td>\n      <td>4</td>\n      <td>30</td>\n      <td>4</td>\n      <td>1041K123K2537101</td>\n    </tr>\n    <tr>\n      <th>3</th>\n      <td>29849</td>\n      <td>Villa in Loutra · ★5.0 · 3 bedrooms · 4 beds ·...</td>\n      <td>125281</td>\n      <td>Dimitrios</td>\n      <td>NaN</td>\n      <td>Ρεθύμνης</td>\n      <td>35.353770</td>\n      <td>24.585670</td>\n      <td>Entire home/apt</td>\n      <td>163</td>\n      <td>3</td>\n      <td>21</td>\n      <td>2023-09-16</td>\n      <td>0.19</td>\n      <td>4</td>\n      <td>31</td>\n      <td>9</td>\n      <td>1041K123K2817101</td>\n    </tr>\n    <tr>\n      <th>4</th>\n      <td>29856</td>\n      <td>Bed and breakfast in Matala · ★4.0 · 1 bedroom...</td>\n      <td>128653</td>\n      <td>Dimitris</td>\n      <td>NaN</td>\n      <td>Φαιστού</td>\n      <td>34.995330</td>\n      <td>24.756540</td>\n      <td>Private room</td>\n      <td>97</td>\n      <td>1</td>\n      <td>44</td>\n      <td>2023-09-20</td>\n      <td>0.28</td>\n      <td>4</td>\n      <td>182</td>\n      <td>2</td>\n      <td>00001193488</td>\n    </tr>\n    <tr>\n      <th>...</th>\n      <td>...</td>\n      <td>...</td>\n      <td>...</td>\n      <td>...</td>\n      <td>...</td>\n      <td>...</td>\n      <td>...</td>\n      <td>...</td>\n      <td>...</td>\n      <td>...</td>\n      <td>...</td>\n      <td>...</td>\n      <td>...</td>\n      <td>...</td>\n      <td>...</td>\n      <td>...</td>\n      <td>...</td>\n      <td>...</td>\n    </tr>\n    <tr>\n      <th>26329</th>\n      <td>986029084509677031</td>\n      <td>Rental unit in Kouremenos · ★New · Studio · 1 ...</td>\n      <td>29214684</td>\n      <td>Claudia</td>\n      <td>NaN</td>\n      <td>Σητείας</td>\n      <td>35.210810</td>\n      <td>26.266090</td>\n      <td>Entire home/apt</td>\n      <td>60</td>\n      <td>2</td>\n      <td>0</td>\n      <td>NaN</td>\n      <td>NaN</td>\n      <td>119</td>\n      <td>364</td>\n      <td>0</td>\n      <td>1040Κ122Κ0239700</td>\n    </tr>\n    <tr>\n      <th>26330</th>\n      <td>986454363266088199</td>\n      <td>Rental unit in Plakias · ★New · 1 bedroom · 2 ...</td>\n      <td>128731982</td>\n      <td>Angela - Interhome Group</td>\n      <td>NaN</td>\n      <td>Αγίου Βασιλείου</td>\n      <td>35.184913</td>\n      <td>24.401388</td>\n      <td>Entire home/apt</td>\n      <td>147</td>\n      <td>1</td>\n      <td>0</td>\n      <td>NaN</td>\n      <td>NaN</td>\n      <td>133</td>\n      <td>363</td>\n      <td>0</td>\n      <td>1041K123K3042901</td>\n    </tr>\n    <tr>\n      <th>26331</th>\n      <td>986454364025801427</td>\n      <td>Rental unit in Plakias · ★New · 2 bedrooms · 4...</td>\n      <td>128731982</td>\n      <td>Angela - Interhome Group</td>\n      <td>NaN</td>\n      <td>Αγίου Βασιλείου</td>\n      <td>35.184913</td>\n      <td>24.401388</td>\n      <td>Entire home/apt</td>\n      <td>175</td>\n      <td>1</td>\n      <td>0</td>\n      <td>NaN</td>\n      <td>NaN</td>\n      <td>133</td>\n      <td>363</td>\n      <td>0</td>\n      <td>1041K123K3042901</td>\n    </tr>\n    <tr>\n      <th>26332</th>\n      <td>986454365306250497</td>\n      <td>Rental unit in Plakias · ★New · 1 bedroom · 1 ...</td>\n      <td>128731982</td>\n      <td>Angela - Interhome Group</td>\n      <td>NaN</td>\n      <td>Αγίου Βασιλείου</td>\n      <td>35.184913</td>\n      <td>24.401388</td>\n      <td>Entire home/apt</td>\n      <td>113</td>\n      <td>1</td>\n      <td>0</td>\n      <td>NaN</td>\n      <td>NaN</td>\n      <td>133</td>\n      <td>363</td>\n      <td>0</td>\n      <td>1041K123K3042901</td>\n    </tr>\n    <tr>\n      <th>26333</th>\n      <td>986454365322857702</td>\n      <td>Rental unit in Plakias · ★New · 2 bedrooms · 4...</td>\n      <td>128731982</td>\n      <td>Angela - Interhome Group</td>\n      <td>NaN</td>\n      <td>Αγίου Βασιλείου</td>\n      <td>35.184913</td>\n      <td>24.401388</td>\n      <td>Entire home/apt</td>\n      <td>205</td>\n      <td>1</td>\n      <td>0</td>\n      <td>NaN</td>\n      <td>NaN</td>\n      <td>133</td>\n      <td>363</td>\n      <td>0</td>\n      <td>1041K123K3042901</td>\n    </tr>\n  </tbody>\n</table>\n<p>26334 rows × 18 columns</p>\n</div>"
     },
     "execution_count": 25,
     "metadata": {},
     "output_type": "execute_result"
    }
   ],
   "source": [
    "df = pd.read_csv('listings.csv')\n",
    "df"
   ],
   "metadata": {
    "collapsed": false,
    "ExecuteTime": {
     "end_time": "2023-12-23T16:43:51.942668900Z",
     "start_time": "2023-12-23T16:43:51.812135800Z"
    }
   },
   "id": "ad62db5a85727966"
  },
  {
   "cell_type": "markdown",
   "source": [
    "Wczytanie oraz wyświetlenie surowych danych."
   ],
   "metadata": {
    "collapsed": false
   },
   "id": "fede480a728385a"
  },
  {
   "cell_type": "code",
   "execution_count": 26,
   "outputs": [
    {
     "name": "stdout",
     "output_type": "stream",
     "text": [
      "<class 'pandas.core.frame.DataFrame'>\n",
      "RangeIndex: 26334 entries, 0 to 26333\n",
      "Data columns (total 18 columns):\n",
      " #   Column                          Non-Null Count  Dtype  \n",
      "---  ------                          --------------  -----  \n",
      " 0   id                              26334 non-null  int64  \n",
      " 1   name                            26334 non-null  object \n",
      " 2   host_id                         26334 non-null  int64  \n",
      " 3   host_name                       26334 non-null  object \n",
      " 4   neighbourhood_group             0 non-null      float64\n",
      " 5   neighbourhood                   26334 non-null  object \n",
      " 6   latitude                        26334 non-null  float64\n",
      " 7   longitude                       26334 non-null  float64\n",
      " 8   room_type                       26334 non-null  object \n",
      " 9   price                           26334 non-null  int64  \n",
      " 10  minimum_nights                  26334 non-null  int64  \n",
      " 11  number_of_reviews               26334 non-null  int64  \n",
      " 12  last_review                     20476 non-null  object \n",
      " 13  reviews_per_month               20476 non-null  float64\n",
      " 14  calculated_host_listings_count  26334 non-null  int64  \n",
      " 15  availability_365                26334 non-null  int64  \n",
      " 16  number_of_reviews_ltm           26334 non-null  int64  \n",
      " 17  license                         24914 non-null  object \n",
      "dtypes: float64(4), int64(8), object(6)\n",
      "memory usage: 3.6+ MB\n"
     ]
    }
   ],
   "source": [
    "df.info()"
   ],
   "metadata": {
    "collapsed": false,
    "ExecuteTime": {
     "end_time": "2023-12-23T16:43:52.009418200Z",
     "start_time": "2023-12-23T16:43:51.921876900Z"
    }
   },
   "id": "adc195cbabbb4601"
  },
  {
   "cell_type": "markdown",
   "source": [
    "Informacje na temat danych."
   ],
   "metadata": {
    "collapsed": false
   },
   "id": "9b8dd6598969c897"
  },
  {
   "cell_type": "code",
   "execution_count": 27,
   "outputs": [
    {
     "data": {
      "text/plain": "26334"
     },
     "execution_count": 27,
     "metadata": {},
     "output_type": "execute_result"
    }
   ],
   "source": [
    "number_of_rows = df.shape[0]\n",
    "number_of_rows"
   ],
   "metadata": {
    "collapsed": false,
    "ExecuteTime": {
     "end_time": "2023-12-23T16:43:52.011418600Z",
     "start_time": "2023-12-23T16:43:51.936669Z"
    }
   },
   "id": "3b85e4b9647d0e3d"
  },
  {
   "cell_type": "code",
   "execution_count": 28,
   "outputs": [
    {
     "data": {
      "text/plain": "      id                                               name  host_id  \\\n0  27966  Rental unit in Gazi · ★4.91 · 1 bedroom · 1 be...   120502   \n1  28970  Home in Heraklion · ★4.50 · 1 bedroom · 4 beds...   124670   \n2  29130  Villa in Loutra · ★5.0 · 6 bedrooms · 7 beds ·...   125281   \n3  29849  Villa in Loutra · ★5.0 · 3 bedrooms · 4 beds ·...   125281   \n4  29856  Bed and breakfast in Matala · ★4.0 · 1 bedroom...   128653   \n\n   host_name  neighbourhood_group neighbourhood  latitude  longitude  \\\n0  Emmanouil                  NaN    Μαλεβιζίου  35.33012   25.08012   \n1     Eirini                  NaN     Ηρακλείου  35.33954   25.12679   \n2  Dimitrios                  NaN      Ρεθύμνης  35.35616   24.58464   \n3  Dimitrios                  NaN      Ρεθύμνης  35.35377   24.58567   \n4   Dimitris                  NaN       Φαιστού  34.99533   24.75654   \n\n         room_type  price  minimum_nights  number_of_reviews last_review  \\\n0  Entire home/apt     45               2                129  2023-09-20   \n1  Entire home/apt     70               1                 53  2021-07-18   \n2  Entire home/apt    390               7                 15  2023-08-10   \n3  Entire home/apt    163               3                 21  2023-09-16   \n4     Private room     97               1                 44  2023-09-20   \n\n   reviews_per_month  calculated_host_listings_count  availability_365  \\\n0               0.88                               2               357   \n1               0.33                               2                 0   \n2               0.13                               4                30   \n3               0.19                               4                31   \n4               0.28                               4               182   \n\n   number_of_reviews_ltm           license  \n0                      6       00000247117  \n1                      0       00000353067  \n2                      4  1041K123K2537101  \n3                      9  1041K123K2817101  \n4                      2       00001193488  ",
      "text/html": "<div>\n<style scoped>\n    .dataframe tbody tr th:only-of-type {\n        vertical-align: middle;\n    }\n\n    .dataframe tbody tr th {\n        vertical-align: top;\n    }\n\n    .dataframe thead th {\n        text-align: right;\n    }\n</style>\n<table border=\"1\" class=\"dataframe\">\n  <thead>\n    <tr style=\"text-align: right;\">\n      <th></th>\n      <th>id</th>\n      <th>name</th>\n      <th>host_id</th>\n      <th>host_name</th>\n      <th>neighbourhood_group</th>\n      <th>neighbourhood</th>\n      <th>latitude</th>\n      <th>longitude</th>\n      <th>room_type</th>\n      <th>price</th>\n      <th>minimum_nights</th>\n      <th>number_of_reviews</th>\n      <th>last_review</th>\n      <th>reviews_per_month</th>\n      <th>calculated_host_listings_count</th>\n      <th>availability_365</th>\n      <th>number_of_reviews_ltm</th>\n      <th>license</th>\n    </tr>\n  </thead>\n  <tbody>\n    <tr>\n      <th>0</th>\n      <td>27966</td>\n      <td>Rental unit in Gazi · ★4.91 · 1 bedroom · 1 be...</td>\n      <td>120502</td>\n      <td>Emmanouil</td>\n      <td>NaN</td>\n      <td>Μαλεβιζίου</td>\n      <td>35.33012</td>\n      <td>25.08012</td>\n      <td>Entire home/apt</td>\n      <td>45</td>\n      <td>2</td>\n      <td>129</td>\n      <td>2023-09-20</td>\n      <td>0.88</td>\n      <td>2</td>\n      <td>357</td>\n      <td>6</td>\n      <td>00000247117</td>\n    </tr>\n    <tr>\n      <th>1</th>\n      <td>28970</td>\n      <td>Home in Heraklion · ★4.50 · 1 bedroom · 4 beds...</td>\n      <td>124670</td>\n      <td>Eirini</td>\n      <td>NaN</td>\n      <td>Ηρακλείου</td>\n      <td>35.33954</td>\n      <td>25.12679</td>\n      <td>Entire home/apt</td>\n      <td>70</td>\n      <td>1</td>\n      <td>53</td>\n      <td>2021-07-18</td>\n      <td>0.33</td>\n      <td>2</td>\n      <td>0</td>\n      <td>0</td>\n      <td>00000353067</td>\n    </tr>\n    <tr>\n      <th>2</th>\n      <td>29130</td>\n      <td>Villa in Loutra · ★5.0 · 6 bedrooms · 7 beds ·...</td>\n      <td>125281</td>\n      <td>Dimitrios</td>\n      <td>NaN</td>\n      <td>Ρεθύμνης</td>\n      <td>35.35616</td>\n      <td>24.58464</td>\n      <td>Entire home/apt</td>\n      <td>390</td>\n      <td>7</td>\n      <td>15</td>\n      <td>2023-08-10</td>\n      <td>0.13</td>\n      <td>4</td>\n      <td>30</td>\n      <td>4</td>\n      <td>1041K123K2537101</td>\n    </tr>\n    <tr>\n      <th>3</th>\n      <td>29849</td>\n      <td>Villa in Loutra · ★5.0 · 3 bedrooms · 4 beds ·...</td>\n      <td>125281</td>\n      <td>Dimitrios</td>\n      <td>NaN</td>\n      <td>Ρεθύμνης</td>\n      <td>35.35377</td>\n      <td>24.58567</td>\n      <td>Entire home/apt</td>\n      <td>163</td>\n      <td>3</td>\n      <td>21</td>\n      <td>2023-09-16</td>\n      <td>0.19</td>\n      <td>4</td>\n      <td>31</td>\n      <td>9</td>\n      <td>1041K123K2817101</td>\n    </tr>\n    <tr>\n      <th>4</th>\n      <td>29856</td>\n      <td>Bed and breakfast in Matala · ★4.0 · 1 bedroom...</td>\n      <td>128653</td>\n      <td>Dimitris</td>\n      <td>NaN</td>\n      <td>Φαιστού</td>\n      <td>34.99533</td>\n      <td>24.75654</td>\n      <td>Private room</td>\n      <td>97</td>\n      <td>1</td>\n      <td>44</td>\n      <td>2023-09-20</td>\n      <td>0.28</td>\n      <td>4</td>\n      <td>182</td>\n      <td>2</td>\n      <td>00001193488</td>\n    </tr>\n  </tbody>\n</table>\n</div>"
     },
     "execution_count": 28,
     "metadata": {},
     "output_type": "execute_result"
    }
   ],
   "source": [
    "df.head()"
   ],
   "metadata": {
    "collapsed": false,
    "ExecuteTime": {
     "end_time": "2023-12-23T16:43:52.037173800Z",
     "start_time": "2023-12-23T16:43:51.951187500Z"
    }
   },
   "id": "7cd71bf5ce08b576"
  },
  {
   "cell_type": "markdown",
   "source": [
    "Próbka surowych danych."
   ],
   "metadata": {
    "collapsed": false
   },
   "id": "f18b47fa2bb1ef62"
  },
  {
   "cell_type": "code",
   "execution_count": 29,
   "outputs": [],
   "source": [
    "df['last_review'] = pd.to_datetime(df['last_review'])"
   ],
   "metadata": {
    "collapsed": false,
    "ExecuteTime": {
     "end_time": "2023-12-23T16:43:52.084770300Z",
     "start_time": "2023-12-23T16:43:51.967293500Z"
    }
   },
   "id": "777ebae43ead1c3e"
  },
  {
   "cell_type": "code",
   "execution_count": 30,
   "outputs": [
    {
     "data": {
      "text/plain": "array([  2,   1,   7,   3,   4,   5,   6,   8,  20,  10,  30, 350,  17,\n        14,  28,  29, 150,   9,  15,  27,  60, 500, 270,  90, 360, 100,\n        50,  25,  40,  21,  70,  80,  35,  12, 365,  44, 998,  45, 109,\n       406,  38,  13,  18, 200], dtype=int64)"
     },
     "execution_count": 30,
     "metadata": {},
     "output_type": "execute_result"
    }
   ],
   "source": [
    "df['minimum_nights'].unique()"
   ],
   "metadata": {
    "collapsed": false,
    "ExecuteTime": {
     "end_time": "2023-12-23T16:43:52.085784900Z",
     "start_time": "2023-12-23T16:43:51.983827500Z"
    }
   },
   "id": "4781b4b955d5ef2"
  },
  {
   "cell_type": "code",
   "execution_count": 31,
   "outputs": [],
   "source": [
    "df['minimum_nights'] = df['minimum_nights'].astype('category')"
   ],
   "metadata": {
    "collapsed": false,
    "ExecuteTime": {
     "end_time": "2023-12-23T16:43:52.086784900Z",
     "start_time": "2023-12-23T16:43:51.998899400Z"
    }
   },
   "id": "d57bb27b4950dbdf"
  },
  {
   "cell_type": "code",
   "execution_count": 32,
   "outputs": [
    {
     "data": {
      "text/plain": "['id',\n 'name',\n 'host_id',\n 'host_name',\n 'neighbourhood_group',\n 'neighbourhood',\n 'latitude',\n 'longitude',\n 'room_type',\n 'price',\n 'minimum_nights',\n 'number_of_reviews',\n 'last_review',\n 'reviews_per_month',\n 'calculated_host_listings_count',\n 'availability_365',\n 'number_of_reviews_ltm',\n 'license']"
     },
     "execution_count": 32,
     "metadata": {},
     "output_type": "execute_result"
    }
   ],
   "source": [
    "df.columns.tolist()"
   ],
   "metadata": {
    "collapsed": false,
    "ExecuteTime": {
     "end_time": "2023-12-23T16:43:52.115144100Z",
     "start_time": "2023-12-23T16:43:52.017932400Z"
    }
   },
   "id": "cf4d3aeea0f41887"
  },
  {
   "cell_type": "code",
   "execution_count": 48,
   "outputs": [
    {
     "data": {
      "text/plain": "                  Minimum Maximum Mean Median 2nd Quartile 3rd Quartile  \\\nprice                 NaN     NaN  NaN    NaN          NaN          NaN   \nreviews_per_month     NaN     NaN  NaN    NaN          NaN          NaN   \n\n                  Standard Deviation Missing/Non-numeric Data  \nprice                            NaN                      NaN  \nreviews_per_month                NaN                      NaN  ",
      "text/html": "<div>\n<style scoped>\n    .dataframe tbody tr th:only-of-type {\n        vertical-align: middle;\n    }\n\n    .dataframe tbody tr th {\n        vertical-align: top;\n    }\n\n    .dataframe thead th {\n        text-align: right;\n    }\n</style>\n<table border=\"1\" class=\"dataframe\">\n  <thead>\n    <tr style=\"text-align: right;\">\n      <th></th>\n      <th>Minimum</th>\n      <th>Maximum</th>\n      <th>Mean</th>\n      <th>Median</th>\n      <th>2nd Quartile</th>\n      <th>3rd Quartile</th>\n      <th>Standard Deviation</th>\n      <th>Missing/Non-numeric Data</th>\n    </tr>\n  </thead>\n  <tbody>\n    <tr>\n      <th>price</th>\n      <td>NaN</td>\n      <td>NaN</td>\n      <td>NaN</td>\n      <td>NaN</td>\n      <td>NaN</td>\n      <td>NaN</td>\n      <td>NaN</td>\n      <td>NaN</td>\n    </tr>\n    <tr>\n      <th>reviews_per_month</th>\n      <td>NaN</td>\n      <td>NaN</td>\n      <td>NaN</td>\n      <td>NaN</td>\n      <td>NaN</td>\n      <td>NaN</td>\n      <td>NaN</td>\n      <td>NaN</td>\n    </tr>\n  </tbody>\n</table>\n</div>"
     },
     "execution_count": 48,
     "metadata": {},
     "output_type": "execute_result"
    }
   ],
   "source": [
    "numeric_columns = ['price',  'reviews_per_month']\n",
    "statistics = ['Minimum', 'Maximum', 'Mean', 'Median', '2nd Quartile', '3rd Quartile', 'Standard Deviation', 'Missing/Non-numeric Data']\n",
    "stats_table = pd.DataFrame( index=numeric_columns, columns=statistics)\n",
    "stats_table"
   ],
   "metadata": {
    "collapsed": false,
    "ExecuteTime": {
     "end_time": "2023-12-23T16:47:41.026434800Z",
     "start_time": "2023-12-23T16:47:40.976250100Z"
    }
   },
   "id": "1564975646550893"
  },
  {
   "cell_type": "code",
   "execution_count": 52,
   "outputs": [],
   "source": [
    "for column in numeric_columns:\n",
    "    stats_table.at[column,'Minimum'] = df[column].min()\n",
    "    stats_table.at[column, 'Maximum'] = df[column].max()\n",
    "    stats_table.at[column, 'Mean'] = df[column].mean()\n",
    "    stats_table.at[column,'Median'] = df[column].median()\n",
    "    stats_table.at[column, '2nd Quartile'] = df[column].quantile(0.25)\n",
    "    stats_table.at[column, '3rd Quartile'] = df[column].quantile(0.75)\n",
    "    stats_table.at[column, 'Standard Deviation'] = df[column].std()\n",
    "    stats_table.at[column, 'Missing/Non-numeric Data'] = df[column].isnull().sum()\n",
    "    #    "
   ],
   "metadata": {
    "collapsed": false,
    "ExecuteTime": {
     "end_time": "2023-12-23T16:49:47.061712700Z",
     "start_time": "2023-12-23T16:49:47.042795Z"
    }
   },
   "id": "673859e1b44f594e"
  },
  {
   "cell_type": "code",
   "execution_count": 53,
   "outputs": [
    {
     "data": {
      "text/plain": "                  Minimum Maximum        Mean Median 2nd Quartile  \\\nprice                  10   80110  194.724804   98.0         65.0   \nreviews_per_month    0.01   18.53    0.696139   0.43         0.17   \n\n                  3rd Quartile Standard Deviation Missing/Non-numeric Data  \nprice                    183.0         661.576857                        0  \nreviews_per_month         0.93           0.836874                     5858  ",
      "text/html": "<div>\n<style scoped>\n    .dataframe tbody tr th:only-of-type {\n        vertical-align: middle;\n    }\n\n    .dataframe tbody tr th {\n        vertical-align: top;\n    }\n\n    .dataframe thead th {\n        text-align: right;\n    }\n</style>\n<table border=\"1\" class=\"dataframe\">\n  <thead>\n    <tr style=\"text-align: right;\">\n      <th></th>\n      <th>Minimum</th>\n      <th>Maximum</th>\n      <th>Mean</th>\n      <th>Median</th>\n      <th>2nd Quartile</th>\n      <th>3rd Quartile</th>\n      <th>Standard Deviation</th>\n      <th>Missing/Non-numeric Data</th>\n    </tr>\n  </thead>\n  <tbody>\n    <tr>\n      <th>price</th>\n      <td>10</td>\n      <td>80110</td>\n      <td>194.724804</td>\n      <td>98.0</td>\n      <td>65.0</td>\n      <td>183.0</td>\n      <td>661.576857</td>\n      <td>0</td>\n    </tr>\n    <tr>\n      <th>reviews_per_month</th>\n      <td>0.01</td>\n      <td>18.53</td>\n      <td>0.696139</td>\n      <td>0.43</td>\n      <td>0.17</td>\n      <td>0.93</td>\n      <td>0.836874</td>\n      <td>5858</td>\n    </tr>\n  </tbody>\n</table>\n</div>"
     },
     "execution_count": 53,
     "metadata": {},
     "output_type": "execute_result"
    }
   ],
   "source": [
    "stats_table"
   ],
   "metadata": {
    "collapsed": false,
    "ExecuteTime": {
     "end_time": "2023-12-23T16:49:47.774051500Z",
     "start_time": "2023-12-23T16:49:47.733750100Z"
    }
   },
   "id": "57d88087641c78bb"
  },
  {
   "cell_type": "markdown",
   "source": [
    "Tabela ukazująca analizę danych niekategorycznych, liczbowych."
   ],
   "metadata": {
    "collapsed": false
   },
   "id": "4237d51ded788515"
  },
  {
   "cell_type": "code",
   "execution_count": 54,
   "outputs": [],
   "source": [
    "category_counts = df['minimum_nights'].value_counts()\n",
    "most_frequent_value = df['minimum_nights'].mode().iloc[0]\n",
    "frequency_of_most_frequent_value = df['minimum_nights'].value_counts().max()\n",
    "unique_values_count = df['minimum_nights'].nunique()\n",
    "missing_values_count = df['minimum_nights'].isnull().sum()"
   ],
   "metadata": {
    "collapsed": false,
    "ExecuteTime": {
     "end_time": "2023-12-23T16:52:11.517919700Z",
     "start_time": "2023-12-23T16:52:11.496752900Z"
    }
   },
   "id": "45516e8161370e78"
  },
  {
   "cell_type": "markdown",
   "source": [
    "Analiza danych kategorycznych."
   ],
   "metadata": {
    "collapsed": false
   },
   "id": "497528af43f69f82"
  },
  {
   "cell_type": "markdown",
   "source": [],
   "metadata": {
    "collapsed": false
   },
   "id": "9f95802781fdd1b7"
  },
  {
   "cell_type": "code",
   "execution_count": null,
   "outputs": [],
   "source": [],
   "metadata": {
    "collapsed": false
   },
   "id": "22c3c3160c213d60"
  }
 ],
 "metadata": {
  "kernelspec": {
   "display_name": "Python 3",
   "language": "python",
   "name": "python3"
  },
  "language_info": {
   "codemirror_mode": {
    "name": "ipython",
    "version": 2
   },
   "file_extension": ".py",
   "mimetype": "text/x-python",
   "name": "python",
   "nbconvert_exporter": "python",
   "pygments_lexer": "ipython2",
   "version": "2.7.6"
  }
 },
 "nbformat": 4,
 "nbformat_minor": 5
}
